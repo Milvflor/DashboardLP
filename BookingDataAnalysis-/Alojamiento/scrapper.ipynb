{
 "cells": [
  {
   "cell_type": "code",
   "execution_count": 3,
   "metadata": {},
   "outputs": [],
   "source": [
    "import pandas as pd\n",
    "from selenium import webdriver\n",
    "from selenium.webdriver.common.by import By"
   ]
  },
  {
   "cell_type": "code",
   "execution_count": 2,
   "metadata": {},
   "outputs": [],
   "source": [
    "driver = webdriver.Chrome()\n",
    "url = \"https://www.booking.com/hotel/ec/casa-arnaldo-esmeraldas.en-gb.html?aid=304142&label=duc511jc-1FCAIoQUICZWNIM1gDaEGIAQGYAQm4AQfIAQzYAQHoAQH4AQ2IAgGoAgO4AqWU7Z0GwAIB0gIkOTNkY2I5NmYtMjRkZS00OGIzLWJkMDYtN2FjMzBhNGE1NDVh2AIG4AIB&sid=d937cab748728b6d0dd262df88420fff&all_sr_blocks=476692707_195997650_0_1_0;checkin=2023-02-01;checkout=2023-02-03;dest_id=13787;dest_type=region;dist=0;group_adults=2;group_children=0;hapos=1;highlighted_blocks=476692707_195997650_0_1_0;hpos=1;matching_block_id=476692707_195997650_0_1_0;no_rooms=1;req_adults=2;req_children=0;room1=A%2CA;sb_price_type=total;show_room=476692707;sr_order=popularity;sr_pri_blocks=476692707_195997650_0_1_0__15000;srepoch=1674432341;srpvid=4b969d7d229406ca;type=total;ucfs=1&#RD476692707\"\n",
    "driver.get(url)\n",
    "html = driver.page_source\n",
    "\n"
   ]
  },
  {
   "cell_type": "code",
   "execution_count": 4,
   "metadata": {},
   "outputs": [
    {
     "name": "stdout",
     "output_type": "stream",
     "text": [
      "[<selenium.webdriver.remote.webelement.WebElement (session=\"ad0a6b241149173d99e4a9b213fa42a4\", element=\"33fe3dcc-b6fa-44ad-bfe4-70d8361554b3\")>, <selenium.webdriver.remote.webelement.WebElement (session=\"ad0a6b241149173d99e4a9b213fa42a4\", element=\"15804a38-9c5d-45d3-a8fe-f365fb644806\")>, <selenium.webdriver.remote.webelement.WebElement (session=\"ad0a6b241149173d99e4a9b213fa42a4\", element=\"ff68cfa2-bc64-4268-96a9-786cd4167a71\")>, <selenium.webdriver.remote.webelement.WebElement (session=\"ad0a6b241149173d99e4a9b213fa42a4\", element=\"f415686e-7cc0-4179-89c3-1e3223033d3d\")>, <selenium.webdriver.remote.webelement.WebElement (session=\"ad0a6b241149173d99e4a9b213fa42a4\", element=\"a2c4f12b-a92c-420e-9ac6-d883eab4c4e0\")>, <selenium.webdriver.remote.webelement.WebElement (session=\"ad0a6b241149173d99e4a9b213fa42a4\", element=\"a7cd7f4e-43ff-46b3-a4bc-f08122cdb35b\")>, <selenium.webdriver.remote.webelement.WebElement (session=\"ad0a6b241149173d99e4a9b213fa42a4\", element=\"6152be30-e94b-4887-a94c-ec91f21f5793\")>, <selenium.webdriver.remote.webelement.WebElement (session=\"ad0a6b241149173d99e4a9b213fa42a4\", element=\"043a4887-1a77-4d36-989d-18403722ffb8\")>, <selenium.webdriver.remote.webelement.WebElement (session=\"ad0a6b241149173d99e4a9b213fa42a4\", element=\"6384ad71-0879-43fe-9839-c162bedf069b\")>, <selenium.webdriver.remote.webelement.WebElement (session=\"ad0a6b241149173d99e4a9b213fa42a4\", element=\"cfa52de9-aed8-4b11-a51a-bcc5d11045a5\")>, <selenium.webdriver.remote.webelement.WebElement (session=\"ad0a6b241149173d99e4a9b213fa42a4\", element=\"c7a8f05e-c3e0-4c46-abc9-a6256477424a\")>, <selenium.webdriver.remote.webelement.WebElement (session=\"ad0a6b241149173d99e4a9b213fa42a4\", element=\"c34b90a6-7722-4e6f-8045-f3981a9a5275\")>, <selenium.webdriver.remote.webelement.WebElement (session=\"ad0a6b241149173d99e4a9b213fa42a4\", element=\"eb8e774e-0733-45b4-876d-875bf4efc13f\")>]\n"
     ]
    }
   ],
   "source": [
    "p = driver.find_elements(By.CLASS_NAME, \"bui-u-sr-only\")\n",
    "print(p)"
   ]
  },
  {
   "cell_type": "code",
   "execution_count": 9,
   "metadata": {},
   "outputs": [
    {
     "data": {
      "text/plain": [
       "['Choose your currency. Your current currency is U.S. dollar',\n",
       " 'Choose your language. Your current language is English (UK)',\n",
       " 'Get help with your reservation',\n",
       " '',\n",
       " '',\n",
       " '',\n",
       " '',\n",
       " 'Max persons: 2',\n",
       " 'Price US$150',\n",
       " 'Max persons: 4',\n",
       " 'Price US$200',\n",
       " 'Max persons: 5',\n",
       " 'Price US$250']"
      ]
     },
     "execution_count": 9,
     "metadata": {},
     "output_type": "execute_result"
    }
   ],
   "source": [
    "[t.text for t in p]"
   ]
  },
  {
   "cell_type": "code",
   "execution_count": null,
   "metadata": {},
   "outputs": [],
   "source": []
  }
 ],
 "metadata": {
  "kernelspec": {
   "display_name": "Python 3",
   "language": "python",
   "name": "python3"
  },
  "language_info": {
   "codemirror_mode": {
    "name": "ipython",
    "version": 3
   },
   "file_extension": ".py",
   "mimetype": "text/x-python",
   "name": "python",
   "nbconvert_exporter": "python",
   "pygments_lexer": "ipython3",
   "version": "3.8.10"
  },
  "orig_nbformat": 4,
  "vscode": {
   "interpreter": {
    "hash": "aee8b7b246df8f9039afb4144a1f6fd8d2ca17a180786b69acc140d282b71a49"
   }
  }
 },
 "nbformat": 4,
 "nbformat_minor": 2
}

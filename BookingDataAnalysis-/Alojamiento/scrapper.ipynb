{
 "cells": [
  {
   "cell_type": "code",
   "execution_count": 1,
   "metadata": {},
   "outputs": [],
   "source": [
    "import pandas as pd"
   ]
  },
  {
   "cell_type": "markdown",
   "source": [
    "## Cleaning data: Hoteles"
   ],
   "metadata": {
    "collapsed": false
   }
  },
  {
   "cell_type": "code",
   "execution_count": 24,
   "metadata": {},
   "outputs": [
    {
     "data": {
      "text/plain": "     id                                          hotel  precio  puntaje  \\\n0     1                La Facha Hostal Restaurant Surf   US$62      8.4   \n1     2                Hotel Casa Arnaldo \"Esmeraldas\"  US$150      8.9   \n2     3                                 Hotel la Barca   US$60      8.8   \n3     4  Resort Playa Azul Departamentos frente al mar  US$140      9.3   \n4     5                         Escapaditas a la Playa   US$90      8.8   \n..   ..                                            ...     ...      ...   \n295  71                Hotel Patrimonial by Greenfield   US$97      8.4   \n296  72                                Hotel Marcelius  US$140      8.3   \n297  73          New apartment in Los Ceibos-Guayaquil  US$122     -1.0   \n298  74                 Hotel Boutique Mansion Del Rio  US$141      8.6   \n299  75                     Manso Boutique Guest House   US$65      8.0   \n\n                                            link_hotel   provincia  \n0    https://www.booking.com/hotel/ec/la-facha-host...  Esmeraldas  \n1    https://www.booking.com/hotel/ec/casa-arnaldo-...  Esmeraldas  \n2    https://www.booking.com/hotel/ec/la-barca.en-g...  Esmeraldas  \n3    https://www.booking.com/hotel/ec/resort-playa-...  Esmeraldas  \n4    https://www.booking.com/hotel/ec/escapaditas-a...  Esmeraldas  \n..                                                 ...         ...  \n295  https://www.booking.com/hotel/ec/greenfield-39...   Guayaquil  \n296  https://www.booking.com/hotel/ec/marcelius.en-...   Guayaquil  \n297  https://www.booking.com/hotel/ec/new-apartment...   Guayaquil  \n298  https://www.booking.com/hotel/ec/boutique-mans...   Guayaquil  \n299  https://www.booking.com/hotel/ec/manso-boutiqu...   Guayaquil  \n\n[300 rows x 6 columns]",
      "text/html": "<div>\n<style scoped>\n    .dataframe tbody tr th:only-of-type {\n        vertical-align: middle;\n    }\n\n    .dataframe tbody tr th {\n        vertical-align: top;\n    }\n\n    .dataframe thead th {\n        text-align: right;\n    }\n</style>\n<table border=\"1\" class=\"dataframe\">\n  <thead>\n    <tr style=\"text-align: right;\">\n      <th></th>\n      <th>id</th>\n      <th>hotel</th>\n      <th>precio</th>\n      <th>puntaje</th>\n      <th>link_hotel</th>\n      <th>provincia</th>\n    </tr>\n  </thead>\n  <tbody>\n    <tr>\n      <th>0</th>\n      <td>1</td>\n      <td>La Facha Hostal Restaurant Surf</td>\n      <td>US$62</td>\n      <td>8.4</td>\n      <td>https://www.booking.com/hotel/ec/la-facha-host...</td>\n      <td>Esmeraldas</td>\n    </tr>\n    <tr>\n      <th>1</th>\n      <td>2</td>\n      <td>Hotel Casa Arnaldo \"Esmeraldas\"</td>\n      <td>US$150</td>\n      <td>8.9</td>\n      <td>https://www.booking.com/hotel/ec/casa-arnaldo-...</td>\n      <td>Esmeraldas</td>\n    </tr>\n    <tr>\n      <th>2</th>\n      <td>3</td>\n      <td>Hotel la Barca</td>\n      <td>US$60</td>\n      <td>8.8</td>\n      <td>https://www.booking.com/hotel/ec/la-barca.en-g...</td>\n      <td>Esmeraldas</td>\n    </tr>\n    <tr>\n      <th>3</th>\n      <td>4</td>\n      <td>Resort Playa Azul Departamentos frente al mar</td>\n      <td>US$140</td>\n      <td>9.3</td>\n      <td>https://www.booking.com/hotel/ec/resort-playa-...</td>\n      <td>Esmeraldas</td>\n    </tr>\n    <tr>\n      <th>4</th>\n      <td>5</td>\n      <td>Escapaditas a la Playa</td>\n      <td>US$90</td>\n      <td>8.8</td>\n      <td>https://www.booking.com/hotel/ec/escapaditas-a...</td>\n      <td>Esmeraldas</td>\n    </tr>\n    <tr>\n      <th>...</th>\n      <td>...</td>\n      <td>...</td>\n      <td>...</td>\n      <td>...</td>\n      <td>...</td>\n      <td>...</td>\n    </tr>\n    <tr>\n      <th>295</th>\n      <td>71</td>\n      <td>Hotel Patrimonial by Greenfield</td>\n      <td>US$97</td>\n      <td>8.4</td>\n      <td>https://www.booking.com/hotel/ec/greenfield-39...</td>\n      <td>Guayaquil</td>\n    </tr>\n    <tr>\n      <th>296</th>\n      <td>72</td>\n      <td>Hotel Marcelius</td>\n      <td>US$140</td>\n      <td>8.3</td>\n      <td>https://www.booking.com/hotel/ec/marcelius.en-...</td>\n      <td>Guayaquil</td>\n    </tr>\n    <tr>\n      <th>297</th>\n      <td>73</td>\n      <td>New apartment in Los Ceibos-Guayaquil</td>\n      <td>US$122</td>\n      <td>-1.0</td>\n      <td>https://www.booking.com/hotel/ec/new-apartment...</td>\n      <td>Guayaquil</td>\n    </tr>\n    <tr>\n      <th>298</th>\n      <td>74</td>\n      <td>Hotel Boutique Mansion Del Rio</td>\n      <td>US$141</td>\n      <td>8.6</td>\n      <td>https://www.booking.com/hotel/ec/boutique-mans...</td>\n      <td>Guayaquil</td>\n    </tr>\n    <tr>\n      <th>299</th>\n      <td>75</td>\n      <td>Manso Boutique Guest House</td>\n      <td>US$65</td>\n      <td>8.0</td>\n      <td>https://www.booking.com/hotel/ec/manso-boutiqu...</td>\n      <td>Guayaquil</td>\n    </tr>\n  </tbody>\n</table>\n<p>300 rows × 6 columns</p>\n</div>"
     },
     "execution_count": 24,
     "metadata": {},
     "output_type": "execute_result"
    }
   ],
   "source": [
    "df_hoteles = pd.read_csv(\"Data/hoteles.csv\")\n",
    "df_hoteles"
   ]
  },
  {
   "cell_type": "code",
   "execution_count": 25,
   "outputs": [
    {
     "name": "stderr",
     "output_type": "stream",
     "text": [
      "/var/folders/8r/6459jf_n61d325srsmwhdwkm0000gp/T/ipykernel_42621/2336266951.py:2: SettingWithCopyWarning: \n",
      "A value is trying to be set on a copy of a slice from a DataFrame.\n",
      "Try using .loc[row_indexer,col_indexer] = value instead\n",
      "\n",
      "See the caveats in the documentation: https://pandas.pydata.org/pandas-docs/stable/user_guide/indexing.html#returning-a-view-versus-a-copy\n",
      "  df_hoteles['precio'] = df_hoteles['precio'].apply(lambda x:x.replace(\"US$\",\"\"))\n"
     ]
    }
   ],
   "source": [
    "df_hoteles = df_hoteles.drop_duplicates(subset=['hotel', 'precio', 'puntaje', 'link_hotel', 'provincia'])\n",
    "df_hoteles['precio'] = df_hoteles['precio'].apply(lambda x:x.replace(\"US$\",\"\"))\n",
    "df_hoteles = df_hoteles[df_hoteles['puntaje']!=-1]\n",
    "# df_hoteles.to_csv(\"Data/hoteles_c.csv\",sep=\";\", index=False)"
   ],
   "metadata": {
    "collapsed": false
   }
  },
  {
   "cell_type": "markdown",
   "source": [
    "## Cleaning data: Categories"
   ],
   "metadata": {
    "collapsed": false
   }
  },
  {
   "cell_type": "code",
   "execution_count": 99,
   "outputs": [
    {
     "data": {
      "text/plain": "      id   provincia        categoria score\n0      1  Esmeraldas            Staff   9.1\n1      1  Esmeraldas       Facilities   8.4\n2      1  Esmeraldas      Cleanliness   8.5\n3      1  Esmeraldas          Comfort   8.5\n4      1  Esmeraldas  Value for money   8.6\n...   ..         ...              ...   ...\n1857  75   Guayaquil      Cleanliness   8.1\n1858  75   Guayaquil          Comfort   8.1\n1859  75   Guayaquil  Value for money   8.2\n1860  75   Guayaquil         Location   9.4\n1861  75   Guayaquil        Free WiFi   8.5\n\n[1862 rows x 4 columns]",
      "text/html": "<div>\n<style scoped>\n    .dataframe tbody tr th:only-of-type {\n        vertical-align: middle;\n    }\n\n    .dataframe tbody tr th {\n        vertical-align: top;\n    }\n\n    .dataframe thead th {\n        text-align: right;\n    }\n</style>\n<table border=\"1\" class=\"dataframe\">\n  <thead>\n    <tr style=\"text-align: right;\">\n      <th></th>\n      <th>id</th>\n      <th>provincia</th>\n      <th>categoria</th>\n      <th>score</th>\n    </tr>\n  </thead>\n  <tbody>\n    <tr>\n      <th>0</th>\n      <td>1</td>\n      <td>Esmeraldas</td>\n      <td>Staff</td>\n      <td>9.1</td>\n    </tr>\n    <tr>\n      <th>1</th>\n      <td>1</td>\n      <td>Esmeraldas</td>\n      <td>Facilities</td>\n      <td>8.4</td>\n    </tr>\n    <tr>\n      <th>2</th>\n      <td>1</td>\n      <td>Esmeraldas</td>\n      <td>Cleanliness</td>\n      <td>8.5</td>\n    </tr>\n    <tr>\n      <th>3</th>\n      <td>1</td>\n      <td>Esmeraldas</td>\n      <td>Comfort</td>\n      <td>8.5</td>\n    </tr>\n    <tr>\n      <th>4</th>\n      <td>1</td>\n      <td>Esmeraldas</td>\n      <td>Value for money</td>\n      <td>8.6</td>\n    </tr>\n    <tr>\n      <th>...</th>\n      <td>...</td>\n      <td>...</td>\n      <td>...</td>\n      <td>...</td>\n    </tr>\n    <tr>\n      <th>1857</th>\n      <td>75</td>\n      <td>Guayaquil</td>\n      <td>Cleanliness</td>\n      <td>8.1</td>\n    </tr>\n    <tr>\n      <th>1858</th>\n      <td>75</td>\n      <td>Guayaquil</td>\n      <td>Comfort</td>\n      <td>8.1</td>\n    </tr>\n    <tr>\n      <th>1859</th>\n      <td>75</td>\n      <td>Guayaquil</td>\n      <td>Value for money</td>\n      <td>8.2</td>\n    </tr>\n    <tr>\n      <th>1860</th>\n      <td>75</td>\n      <td>Guayaquil</td>\n      <td>Location</td>\n      <td>9.4</td>\n    </tr>\n    <tr>\n      <th>1861</th>\n      <td>75</td>\n      <td>Guayaquil</td>\n      <td>Free WiFi</td>\n      <td>8.5</td>\n    </tr>\n  </tbody>\n</table>\n<p>1862 rows × 4 columns</p>\n</div>"
     },
     "execution_count": 99,
     "metadata": {},
     "output_type": "execute_result"
    }
   ],
   "source": [
    "df_categories = pd.read_csv(\"Data/categories_hotels.csv\")\n",
    "df_categories"
   ],
   "metadata": {
    "collapsed": false
   }
  },
  {
   "cell_type": "code",
   "execution_count": 100,
   "outputs": [],
   "source": [
    "df_categories['id']=df_categories['id'].astype(\"str\")\n",
    "df_hoteles['id']=df_hoteles['id'].astype(\"str\")"
   ],
   "metadata": {
    "collapsed": false
   }
  },
  {
   "cell_type": "code",
   "execution_count": 101,
   "outputs": [
    {
     "data": {
      "text/plain": "      id   provincia        categoria score                            hotel  \\\n0      1  Esmeraldas            Staff   9.1  La Facha Hostal Restaurant Surf   \n1      1  Esmeraldas       Facilities   8.4  La Facha Hostal Restaurant Surf   \n2      1  Esmeraldas      Cleanliness   8.5  La Facha Hostal Restaurant Surf   \n3      1  Esmeraldas          Comfort   8.5  La Facha Hostal Restaurant Surf   \n4      1  Esmeraldas  Value for money   8.6  La Facha Hostal Restaurant Surf   \n...   ..         ...              ...   ...                              ...   \n1533  25   Guayaquil      Cleanliness   8.1       Manso Boutique Guest House   \n1534  25   Guayaquil          Comfort   8.1       Manso Boutique Guest House   \n1535  25   Guayaquil  Value for money   8.2       Manso Boutique Guest House   \n1536  25   Guayaquil         Location   9.4       Manso Boutique Guest House   \n1537  25   Guayaquil        Free WiFi   8.5       Manso Boutique Guest House   \n\n     precio  puntaje                                         link_hotel  \n0        62      8.4  https://www.booking.com/hotel/ec/la-facha-host...  \n1        62      8.4  https://www.booking.com/hotel/ec/la-facha-host...  \n2        62      8.4  https://www.booking.com/hotel/ec/la-facha-host...  \n3        62      8.4  https://www.booking.com/hotel/ec/la-facha-host...  \n4        62      8.4  https://www.booking.com/hotel/ec/la-facha-host...  \n...     ...      ...                                                ...  \n1533     65      8.0  https://www.booking.com/hotel/ec/manso-boutiqu...  \n1534     65      8.0  https://www.booking.com/hotel/ec/manso-boutiqu...  \n1535     65      8.0  https://www.booking.com/hotel/ec/manso-boutiqu...  \n1536     65      8.0  https://www.booking.com/hotel/ec/manso-boutiqu...  \n1537     65      8.0  https://www.booking.com/hotel/ec/manso-boutiqu...  \n\n[611 rows x 8 columns]",
      "text/html": "<div>\n<style scoped>\n    .dataframe tbody tr th:only-of-type {\n        vertical-align: middle;\n    }\n\n    .dataframe tbody tr th {\n        vertical-align: top;\n    }\n\n    .dataframe thead th {\n        text-align: right;\n    }\n</style>\n<table border=\"1\" class=\"dataframe\">\n  <thead>\n    <tr style=\"text-align: right;\">\n      <th></th>\n      <th>id</th>\n      <th>provincia</th>\n      <th>categoria</th>\n      <th>score</th>\n      <th>hotel</th>\n      <th>precio</th>\n      <th>puntaje</th>\n      <th>link_hotel</th>\n    </tr>\n  </thead>\n  <tbody>\n    <tr>\n      <th>0</th>\n      <td>1</td>\n      <td>Esmeraldas</td>\n      <td>Staff</td>\n      <td>9.1</td>\n      <td>La Facha Hostal Restaurant Surf</td>\n      <td>62</td>\n      <td>8.4</td>\n      <td>https://www.booking.com/hotel/ec/la-facha-host...</td>\n    </tr>\n    <tr>\n      <th>1</th>\n      <td>1</td>\n      <td>Esmeraldas</td>\n      <td>Facilities</td>\n      <td>8.4</td>\n      <td>La Facha Hostal Restaurant Surf</td>\n      <td>62</td>\n      <td>8.4</td>\n      <td>https://www.booking.com/hotel/ec/la-facha-host...</td>\n    </tr>\n    <tr>\n      <th>2</th>\n      <td>1</td>\n      <td>Esmeraldas</td>\n      <td>Cleanliness</td>\n      <td>8.5</td>\n      <td>La Facha Hostal Restaurant Surf</td>\n      <td>62</td>\n      <td>8.4</td>\n      <td>https://www.booking.com/hotel/ec/la-facha-host...</td>\n    </tr>\n    <tr>\n      <th>3</th>\n      <td>1</td>\n      <td>Esmeraldas</td>\n      <td>Comfort</td>\n      <td>8.5</td>\n      <td>La Facha Hostal Restaurant Surf</td>\n      <td>62</td>\n      <td>8.4</td>\n      <td>https://www.booking.com/hotel/ec/la-facha-host...</td>\n    </tr>\n    <tr>\n      <th>4</th>\n      <td>1</td>\n      <td>Esmeraldas</td>\n      <td>Value for money</td>\n      <td>8.6</td>\n      <td>La Facha Hostal Restaurant Surf</td>\n      <td>62</td>\n      <td>8.4</td>\n      <td>https://www.booking.com/hotel/ec/la-facha-host...</td>\n    </tr>\n    <tr>\n      <th>...</th>\n      <td>...</td>\n      <td>...</td>\n      <td>...</td>\n      <td>...</td>\n      <td>...</td>\n      <td>...</td>\n      <td>...</td>\n      <td>...</td>\n    </tr>\n    <tr>\n      <th>1533</th>\n      <td>25</td>\n      <td>Guayaquil</td>\n      <td>Cleanliness</td>\n      <td>8.1</td>\n      <td>Manso Boutique Guest House</td>\n      <td>65</td>\n      <td>8.0</td>\n      <td>https://www.booking.com/hotel/ec/manso-boutiqu...</td>\n    </tr>\n    <tr>\n      <th>1534</th>\n      <td>25</td>\n      <td>Guayaquil</td>\n      <td>Comfort</td>\n      <td>8.1</td>\n      <td>Manso Boutique Guest House</td>\n      <td>65</td>\n      <td>8.0</td>\n      <td>https://www.booking.com/hotel/ec/manso-boutiqu...</td>\n    </tr>\n    <tr>\n      <th>1535</th>\n      <td>25</td>\n      <td>Guayaquil</td>\n      <td>Value for money</td>\n      <td>8.2</td>\n      <td>Manso Boutique Guest House</td>\n      <td>65</td>\n      <td>8.0</td>\n      <td>https://www.booking.com/hotel/ec/manso-boutiqu...</td>\n    </tr>\n    <tr>\n      <th>1536</th>\n      <td>25</td>\n      <td>Guayaquil</td>\n      <td>Location</td>\n      <td>9.4</td>\n      <td>Manso Boutique Guest House</td>\n      <td>65</td>\n      <td>8.0</td>\n      <td>https://www.booking.com/hotel/ec/manso-boutiqu...</td>\n    </tr>\n    <tr>\n      <th>1537</th>\n      <td>25</td>\n      <td>Guayaquil</td>\n      <td>Free WiFi</td>\n      <td>8.5</td>\n      <td>Manso Boutique Guest House</td>\n      <td>65</td>\n      <td>8.0</td>\n      <td>https://www.booking.com/hotel/ec/manso-boutiqu...</td>\n    </tr>\n  </tbody>\n</table>\n<p>611 rows × 8 columns</p>\n</div>"
     },
     "execution_count": 101,
     "metadata": {},
     "output_type": "execute_result"
    }
   ],
   "source": [
    "df_categories_c = df_categories.merge(df_hoteles, on=['id','provincia'], how='outer')\n",
    "df_categories_c = df_categories_c.dropna(subset=['precio','categoria'])\n",
    "df_categories_c"
   ],
   "metadata": {
    "collapsed": false
   }
  },
  {
   "cell_type": "code",
   "execution_count": 102,
   "outputs": [
    {
     "data": {
      "text/plain": "Index(['id', 'provincia', 'categoria', 'score', 'hotel', 'precio', 'puntaje',\n       'link_hotel'],\n      dtype='object')"
     },
     "execution_count": 102,
     "metadata": {},
     "output_type": "execute_result"
    }
   ],
   "source": [
    "df_categories_c.columns"
   ],
   "metadata": {
    "collapsed": false
   }
  },
  {
   "cell_type": "code",
   "execution_count": 103,
   "outputs": [
    {
     "data": {
      "text/plain": "       provincia        categoria score                            hotel  \\\n0     Esmeraldas            Staff   9.1  La Facha Hostal Restaurant Surf   \n1     Esmeraldas       Facilities   8.4  La Facha Hostal Restaurant Surf   \n2     Esmeraldas      Cleanliness   8.5  La Facha Hostal Restaurant Surf   \n3     Esmeraldas          Comfort   8.5  La Facha Hostal Restaurant Surf   \n4     Esmeraldas  Value for money   8.6  La Facha Hostal Restaurant Surf   \n...          ...              ...   ...                              ...   \n1533   Guayaquil      Cleanliness   8.1       Manso Boutique Guest House   \n1534   Guayaquil          Comfort   8.1       Manso Boutique Guest House   \n1535   Guayaquil  Value for money   8.2       Manso Boutique Guest House   \n1536   Guayaquil         Location   9.4       Manso Boutique Guest House   \n1537   Guayaquil        Free WiFi   8.5       Manso Boutique Guest House   \n\n      puntaje  \n0         8.4  \n1         8.4  \n2         8.4  \n3         8.4  \n4         8.4  \n...       ...  \n1533      8.0  \n1534      8.0  \n1535      8.0  \n1536      8.0  \n1537      8.0  \n\n[611 rows x 5 columns]",
      "text/html": "<div>\n<style scoped>\n    .dataframe tbody tr th:only-of-type {\n        vertical-align: middle;\n    }\n\n    .dataframe tbody tr th {\n        vertical-align: top;\n    }\n\n    .dataframe thead th {\n        text-align: right;\n    }\n</style>\n<table border=\"1\" class=\"dataframe\">\n  <thead>\n    <tr style=\"text-align: right;\">\n      <th></th>\n      <th>provincia</th>\n      <th>categoria</th>\n      <th>score</th>\n      <th>hotel</th>\n      <th>puntaje</th>\n    </tr>\n  </thead>\n  <tbody>\n    <tr>\n      <th>0</th>\n      <td>Esmeraldas</td>\n      <td>Staff</td>\n      <td>9.1</td>\n      <td>La Facha Hostal Restaurant Surf</td>\n      <td>8.4</td>\n    </tr>\n    <tr>\n      <th>1</th>\n      <td>Esmeraldas</td>\n      <td>Facilities</td>\n      <td>8.4</td>\n      <td>La Facha Hostal Restaurant Surf</td>\n      <td>8.4</td>\n    </tr>\n    <tr>\n      <th>2</th>\n      <td>Esmeraldas</td>\n      <td>Cleanliness</td>\n      <td>8.5</td>\n      <td>La Facha Hostal Restaurant Surf</td>\n      <td>8.4</td>\n    </tr>\n    <tr>\n      <th>3</th>\n      <td>Esmeraldas</td>\n      <td>Comfort</td>\n      <td>8.5</td>\n      <td>La Facha Hostal Restaurant Surf</td>\n      <td>8.4</td>\n    </tr>\n    <tr>\n      <th>4</th>\n      <td>Esmeraldas</td>\n      <td>Value for money</td>\n      <td>8.6</td>\n      <td>La Facha Hostal Restaurant Surf</td>\n      <td>8.4</td>\n    </tr>\n    <tr>\n      <th>...</th>\n      <td>...</td>\n      <td>...</td>\n      <td>...</td>\n      <td>...</td>\n      <td>...</td>\n    </tr>\n    <tr>\n      <th>1533</th>\n      <td>Guayaquil</td>\n      <td>Cleanliness</td>\n      <td>8.1</td>\n      <td>Manso Boutique Guest House</td>\n      <td>8.0</td>\n    </tr>\n    <tr>\n      <th>1534</th>\n      <td>Guayaquil</td>\n      <td>Comfort</td>\n      <td>8.1</td>\n      <td>Manso Boutique Guest House</td>\n      <td>8.0</td>\n    </tr>\n    <tr>\n      <th>1535</th>\n      <td>Guayaquil</td>\n      <td>Value for money</td>\n      <td>8.2</td>\n      <td>Manso Boutique Guest House</td>\n      <td>8.0</td>\n    </tr>\n    <tr>\n      <th>1536</th>\n      <td>Guayaquil</td>\n      <td>Location</td>\n      <td>9.4</td>\n      <td>Manso Boutique Guest House</td>\n      <td>8.0</td>\n    </tr>\n    <tr>\n      <th>1537</th>\n      <td>Guayaquil</td>\n      <td>Free WiFi</td>\n      <td>8.5</td>\n      <td>Manso Boutique Guest House</td>\n      <td>8.0</td>\n    </tr>\n  </tbody>\n</table>\n<p>611 rows × 5 columns</p>\n</div>"
     },
     "execution_count": 103,
     "metadata": {},
     "output_type": "execute_result"
    }
   ],
   "source": [
    "df_categories_c = df_categories_c[['provincia', 'categoria', 'score', 'hotel','puntaje']]\n",
    "df_categories_c"
   ],
   "metadata": {
    "collapsed": false
   }
  },
  {
   "cell_type": "code",
   "execution_count": 104,
   "outputs": [],
   "source": [
    "df_categories_c.to_csv(\"Data/category_hotels_c.csv\",index=False)"
   ],
   "metadata": {
    "collapsed": false
   }
  },
  {
   "cell_type": "markdown",
   "source": [
    "## Cleaning data: Surroundings"
   ],
   "metadata": {
    "collapsed": false
   }
  },
  {
   "cell_type": "code",
   "execution_count": 122,
   "outputs": [
    {
     "data": {
      "text/plain": "      id   provincia                             lugares distancia\n0      1  Esmeraldas                     Parque Cojimíes     16 km\n1      1  Esmeraldas  RestaurantSuly's Pasta Grill & Bar      50 m\n2      1  Esmeraldas              RestaurantEl Económico     150 m\n3      1  Esmeraldas     RestaurantAtardecer de Mompiche     150 m\n4      1  Esmeraldas                      Mompiche Beach      50 m\n...   ..         ...                                 ...       ...\n5294  25   Guayaquil                      Seminario Park     350 m\n5297  25   Guayaquil                    Las Iguanas Park     350 m\n5299  25   Guayaquil             Cafe/barEl Café de Tere     150 m\n5300  25   Guayaquil      RestaurantLa Parrilla del Ñato     150 m\n5301  25   Guayaquil            Cafe/barJuice and Coffee     150 m\n\n[1545 rows x 4 columns]",
      "text/html": "<div>\n<style scoped>\n    .dataframe tbody tr th:only-of-type {\n        vertical-align: middle;\n    }\n\n    .dataframe tbody tr th {\n        vertical-align: top;\n    }\n\n    .dataframe thead th {\n        text-align: right;\n    }\n</style>\n<table border=\"1\" class=\"dataframe\">\n  <thead>\n    <tr style=\"text-align: right;\">\n      <th></th>\n      <th>id</th>\n      <th>provincia</th>\n      <th>lugares</th>\n      <th>distancia</th>\n    </tr>\n  </thead>\n  <tbody>\n    <tr>\n      <th>0</th>\n      <td>1</td>\n      <td>Esmeraldas</td>\n      <td>Parque Cojimíes</td>\n      <td>16 km</td>\n    </tr>\n    <tr>\n      <th>1</th>\n      <td>1</td>\n      <td>Esmeraldas</td>\n      <td>RestaurantSuly's Pasta Grill &amp; Bar</td>\n      <td>50 m</td>\n    </tr>\n    <tr>\n      <th>2</th>\n      <td>1</td>\n      <td>Esmeraldas</td>\n      <td>RestaurantEl Económico</td>\n      <td>150 m</td>\n    </tr>\n    <tr>\n      <th>3</th>\n      <td>1</td>\n      <td>Esmeraldas</td>\n      <td>RestaurantAtardecer de Mompiche</td>\n      <td>150 m</td>\n    </tr>\n    <tr>\n      <th>4</th>\n      <td>1</td>\n      <td>Esmeraldas</td>\n      <td>Mompiche Beach</td>\n      <td>50 m</td>\n    </tr>\n    <tr>\n      <th>...</th>\n      <td>...</td>\n      <td>...</td>\n      <td>...</td>\n      <td>...</td>\n    </tr>\n    <tr>\n      <th>5294</th>\n      <td>25</td>\n      <td>Guayaquil</td>\n      <td>Seminario Park</td>\n      <td>350 m</td>\n    </tr>\n    <tr>\n      <th>5297</th>\n      <td>25</td>\n      <td>Guayaquil</td>\n      <td>Las Iguanas Park</td>\n      <td>350 m</td>\n    </tr>\n    <tr>\n      <th>5299</th>\n      <td>25</td>\n      <td>Guayaquil</td>\n      <td>Cafe/barEl Café de Tere</td>\n      <td>150 m</td>\n    </tr>\n    <tr>\n      <th>5300</th>\n      <td>25</td>\n      <td>Guayaquil</td>\n      <td>RestaurantLa Parrilla del Ñato</td>\n      <td>150 m</td>\n    </tr>\n    <tr>\n      <th>5301</th>\n      <td>25</td>\n      <td>Guayaquil</td>\n      <td>Cafe/barJuice and Coffee</td>\n      <td>150 m</td>\n    </tr>\n  </tbody>\n</table>\n<p>1545 rows × 4 columns</p>\n</div>"
     },
     "execution_count": 122,
     "metadata": {},
     "output_type": "execute_result"
    }
   ],
   "source": [
    "df_surroundings = pd.read_csv(\"Data/surroundings_hotels.csv\")\n",
    "df_surroundings = df_surroundings.drop_duplicates(subset=['provincia','lugares','distancia'])\n",
    "df_surroundings"
   ],
   "metadata": {
    "collapsed": false
   }
  },
  {
   "cell_type": "code",
   "execution_count": 123,
   "outputs": [
    {
     "data": {
      "text/plain": "       provincia                             lugares distancia  \\\n0     Esmeraldas                     Parque Cojimíes     16 km   \n1     Esmeraldas  RestaurantSuly's Pasta Grill & Bar      50 m   \n2     Esmeraldas              RestaurantEl Económico     150 m   \n3     Esmeraldas     RestaurantAtardecer de Mompiche     150 m   \n4     Esmeraldas                      Mompiche Beach      50 m   \n...          ...                                 ...       ...   \n1540   Guayaquil                      Seminario Park     350 m   \n1541   Guayaquil                    Las Iguanas Park     350 m   \n1542   Guayaquil             Cafe/barEl Café de Tere     150 m   \n1543   Guayaquil      RestaurantLa Parrilla del Ñato     150 m   \n1544   Guayaquil            Cafe/barJuice and Coffee     150 m   \n\n                                hotel  puntaje  \n0     La Facha Hostal Restaurant Surf      8.4  \n1     La Facha Hostal Restaurant Surf      8.4  \n2     La Facha Hostal Restaurant Surf      8.4  \n3     La Facha Hostal Restaurant Surf      8.4  \n4     La Facha Hostal Restaurant Surf      8.4  \n...                               ...      ...  \n1540       Manso Boutique Guest House      8.0  \n1541       Manso Boutique Guest House      8.0  \n1542       Manso Boutique Guest House      8.0  \n1543       Manso Boutique Guest House      8.0  \n1544       Manso Boutique Guest House      8.0  \n\n[1412 rows x 5 columns]",
      "text/html": "<div>\n<style scoped>\n    .dataframe tbody tr th:only-of-type {\n        vertical-align: middle;\n    }\n\n    .dataframe tbody tr th {\n        vertical-align: top;\n    }\n\n    .dataframe thead th {\n        text-align: right;\n    }\n</style>\n<table border=\"1\" class=\"dataframe\">\n  <thead>\n    <tr style=\"text-align: right;\">\n      <th></th>\n      <th>provincia</th>\n      <th>lugares</th>\n      <th>distancia</th>\n      <th>hotel</th>\n      <th>puntaje</th>\n    </tr>\n  </thead>\n  <tbody>\n    <tr>\n      <th>0</th>\n      <td>Esmeraldas</td>\n      <td>Parque Cojimíes</td>\n      <td>16 km</td>\n      <td>La Facha Hostal Restaurant Surf</td>\n      <td>8.4</td>\n    </tr>\n    <tr>\n      <th>1</th>\n      <td>Esmeraldas</td>\n      <td>RestaurantSuly's Pasta Grill &amp; Bar</td>\n      <td>50 m</td>\n      <td>La Facha Hostal Restaurant Surf</td>\n      <td>8.4</td>\n    </tr>\n    <tr>\n      <th>2</th>\n      <td>Esmeraldas</td>\n      <td>RestaurantEl Económico</td>\n      <td>150 m</td>\n      <td>La Facha Hostal Restaurant Surf</td>\n      <td>8.4</td>\n    </tr>\n    <tr>\n      <th>3</th>\n      <td>Esmeraldas</td>\n      <td>RestaurantAtardecer de Mompiche</td>\n      <td>150 m</td>\n      <td>La Facha Hostal Restaurant Surf</td>\n      <td>8.4</td>\n    </tr>\n    <tr>\n      <th>4</th>\n      <td>Esmeraldas</td>\n      <td>Mompiche Beach</td>\n      <td>50 m</td>\n      <td>La Facha Hostal Restaurant Surf</td>\n      <td>8.4</td>\n    </tr>\n    <tr>\n      <th>...</th>\n      <td>...</td>\n      <td>...</td>\n      <td>...</td>\n      <td>...</td>\n      <td>...</td>\n    </tr>\n    <tr>\n      <th>1540</th>\n      <td>Guayaquil</td>\n      <td>Seminario Park</td>\n      <td>350 m</td>\n      <td>Manso Boutique Guest House</td>\n      <td>8.0</td>\n    </tr>\n    <tr>\n      <th>1541</th>\n      <td>Guayaquil</td>\n      <td>Las Iguanas Park</td>\n      <td>350 m</td>\n      <td>Manso Boutique Guest House</td>\n      <td>8.0</td>\n    </tr>\n    <tr>\n      <th>1542</th>\n      <td>Guayaquil</td>\n      <td>Cafe/barEl Café de Tere</td>\n      <td>150 m</td>\n      <td>Manso Boutique Guest House</td>\n      <td>8.0</td>\n    </tr>\n    <tr>\n      <th>1543</th>\n      <td>Guayaquil</td>\n      <td>RestaurantLa Parrilla del Ñato</td>\n      <td>150 m</td>\n      <td>Manso Boutique Guest House</td>\n      <td>8.0</td>\n    </tr>\n    <tr>\n      <th>1544</th>\n      <td>Guayaquil</td>\n      <td>Cafe/barJuice and Coffee</td>\n      <td>150 m</td>\n      <td>Manso Boutique Guest House</td>\n      <td>8.0</td>\n    </tr>\n  </tbody>\n</table>\n<p>1412 rows × 5 columns</p>\n</div>"
     },
     "execution_count": 123,
     "metadata": {},
     "output_type": "execute_result"
    }
   ],
   "source": [
    "df_surroundings_c = df_surroundings.merge(df_hoteles, on=['id','provincia'], how='outer')\n",
    "df_surroundings_c = df_surroundings_c[['provincia', 'lugares', 'distancia', 'hotel','puntaje']]\n",
    "df_surroundings_c = df_surroundings_c.dropna(subset=['hotel'])\n",
    "df_surroundings_c"
   ],
   "metadata": {
    "collapsed": false
   }
  },
  {
   "cell_type": "code",
   "execution_count": 124,
   "outputs": [],
   "source": [
    "df_surroundings_c['distancia'] = df_surroundings_c['distancia'].apply(lambda x: float(x.replace(\" km\",\"\").replace(\",\",\".\"))*1000 if \"km\" in x else float(x.replace(\" m\",\"\").replace(\",\",\".\")))"
   ],
   "metadata": {
    "collapsed": false
   }
  },
  {
   "cell_type": "code",
   "execution_count": 125,
   "outputs": [
    {
     "data": {
      "text/plain": "       provincia                             lugares  distancia  \\\n0     Esmeraldas                     Parque Cojimíes    16000.0   \n1     Esmeraldas  RestaurantSuly's Pasta Grill & Bar       50.0   \n2     Esmeraldas              RestaurantEl Económico      150.0   \n3     Esmeraldas     RestaurantAtardecer de Mompiche      150.0   \n4     Esmeraldas                      Mompiche Beach       50.0   \n...          ...                                 ...        ...   \n1540   Guayaquil                      Seminario Park      350.0   \n1541   Guayaquil                    Las Iguanas Park      350.0   \n1542   Guayaquil             Cafe/barEl Café de Tere      150.0   \n1543   Guayaquil      RestaurantLa Parrilla del Ñato      150.0   \n1544   Guayaquil            Cafe/barJuice and Coffee      150.0   \n\n                                hotel  puntaje  \n0     La Facha Hostal Restaurant Surf      8.4  \n1     La Facha Hostal Restaurant Surf      8.4  \n2     La Facha Hostal Restaurant Surf      8.4  \n3     La Facha Hostal Restaurant Surf      8.4  \n4     La Facha Hostal Restaurant Surf      8.4  \n...                               ...      ...  \n1540       Manso Boutique Guest House      8.0  \n1541       Manso Boutique Guest House      8.0  \n1542       Manso Boutique Guest House      8.0  \n1543       Manso Boutique Guest House      8.0  \n1544       Manso Boutique Guest House      8.0  \n\n[1412 rows x 5 columns]",
      "text/html": "<div>\n<style scoped>\n    .dataframe tbody tr th:only-of-type {\n        vertical-align: middle;\n    }\n\n    .dataframe tbody tr th {\n        vertical-align: top;\n    }\n\n    .dataframe thead th {\n        text-align: right;\n    }\n</style>\n<table border=\"1\" class=\"dataframe\">\n  <thead>\n    <tr style=\"text-align: right;\">\n      <th></th>\n      <th>provincia</th>\n      <th>lugares</th>\n      <th>distancia</th>\n      <th>hotel</th>\n      <th>puntaje</th>\n    </tr>\n  </thead>\n  <tbody>\n    <tr>\n      <th>0</th>\n      <td>Esmeraldas</td>\n      <td>Parque Cojimíes</td>\n      <td>16000.0</td>\n      <td>La Facha Hostal Restaurant Surf</td>\n      <td>8.4</td>\n    </tr>\n    <tr>\n      <th>1</th>\n      <td>Esmeraldas</td>\n      <td>RestaurantSuly's Pasta Grill &amp; Bar</td>\n      <td>50.0</td>\n      <td>La Facha Hostal Restaurant Surf</td>\n      <td>8.4</td>\n    </tr>\n    <tr>\n      <th>2</th>\n      <td>Esmeraldas</td>\n      <td>RestaurantEl Económico</td>\n      <td>150.0</td>\n      <td>La Facha Hostal Restaurant Surf</td>\n      <td>8.4</td>\n    </tr>\n    <tr>\n      <th>3</th>\n      <td>Esmeraldas</td>\n      <td>RestaurantAtardecer de Mompiche</td>\n      <td>150.0</td>\n      <td>La Facha Hostal Restaurant Surf</td>\n      <td>8.4</td>\n    </tr>\n    <tr>\n      <th>4</th>\n      <td>Esmeraldas</td>\n      <td>Mompiche Beach</td>\n      <td>50.0</td>\n      <td>La Facha Hostal Restaurant Surf</td>\n      <td>8.4</td>\n    </tr>\n    <tr>\n      <th>...</th>\n      <td>...</td>\n      <td>...</td>\n      <td>...</td>\n      <td>...</td>\n      <td>...</td>\n    </tr>\n    <tr>\n      <th>1540</th>\n      <td>Guayaquil</td>\n      <td>Seminario Park</td>\n      <td>350.0</td>\n      <td>Manso Boutique Guest House</td>\n      <td>8.0</td>\n    </tr>\n    <tr>\n      <th>1541</th>\n      <td>Guayaquil</td>\n      <td>Las Iguanas Park</td>\n      <td>350.0</td>\n      <td>Manso Boutique Guest House</td>\n      <td>8.0</td>\n    </tr>\n    <tr>\n      <th>1542</th>\n      <td>Guayaquil</td>\n      <td>Cafe/barEl Café de Tere</td>\n      <td>150.0</td>\n      <td>Manso Boutique Guest House</td>\n      <td>8.0</td>\n    </tr>\n    <tr>\n      <th>1543</th>\n      <td>Guayaquil</td>\n      <td>RestaurantLa Parrilla del Ñato</td>\n      <td>150.0</td>\n      <td>Manso Boutique Guest House</td>\n      <td>8.0</td>\n    </tr>\n    <tr>\n      <th>1544</th>\n      <td>Guayaquil</td>\n      <td>Cafe/barJuice and Coffee</td>\n      <td>150.0</td>\n      <td>Manso Boutique Guest House</td>\n      <td>8.0</td>\n    </tr>\n  </tbody>\n</table>\n<p>1412 rows × 5 columns</p>\n</div>"
     },
     "execution_count": 125,
     "metadata": {},
     "output_type": "execute_result"
    }
   ],
   "source": [
    "df_surroundings_c"
   ],
   "metadata": {
    "collapsed": false
   }
  },
  {
   "cell_type": "code",
   "execution_count": 126,
   "outputs": [],
   "source": [
    "df_surroundings_c['distancia'] = df_surroundings_c['distancia'].apply(lambda x: x/1000)"
   ],
   "metadata": {
    "collapsed": false
   }
  },
  {
   "cell_type": "code",
   "execution_count": 109,
   "outputs": [],
   "source": [
    "# df_surroundings_c['distancia'] = df_surroundings_c['distancia'].astype(\"int64\")"
   ],
   "metadata": {
    "collapsed": false
   }
  },
  {
   "cell_type": "code",
   "execution_count": 127,
   "outputs": [
    {
     "data": {
      "text/plain": "       provincia                             lugares  distancia  \\\n0     Esmeraldas                     Parque Cojimíes      16.00   \n1     Esmeraldas  RestaurantSuly's Pasta Grill & Bar       0.05   \n2     Esmeraldas              RestaurantEl Económico       0.15   \n3     Esmeraldas     RestaurantAtardecer de Mompiche       0.15   \n4     Esmeraldas                      Mompiche Beach       0.05   \n...          ...                                 ...        ...   \n1540   Guayaquil                      Seminario Park       0.35   \n1541   Guayaquil                    Las Iguanas Park       0.35   \n1542   Guayaquil             Cafe/barEl Café de Tere       0.15   \n1543   Guayaquil      RestaurantLa Parrilla del Ñato       0.15   \n1544   Guayaquil            Cafe/barJuice and Coffee       0.15   \n\n                                hotel  puntaje  \n0     La Facha Hostal Restaurant Surf      8.4  \n1     La Facha Hostal Restaurant Surf      8.4  \n2     La Facha Hostal Restaurant Surf      8.4  \n3     La Facha Hostal Restaurant Surf      8.4  \n4     La Facha Hostal Restaurant Surf      8.4  \n...                               ...      ...  \n1540       Manso Boutique Guest House      8.0  \n1541       Manso Boutique Guest House      8.0  \n1542       Manso Boutique Guest House      8.0  \n1543       Manso Boutique Guest House      8.0  \n1544       Manso Boutique Guest House      8.0  \n\n[1412 rows x 5 columns]",
      "text/html": "<div>\n<style scoped>\n    .dataframe tbody tr th:only-of-type {\n        vertical-align: middle;\n    }\n\n    .dataframe tbody tr th {\n        vertical-align: top;\n    }\n\n    .dataframe thead th {\n        text-align: right;\n    }\n</style>\n<table border=\"1\" class=\"dataframe\">\n  <thead>\n    <tr style=\"text-align: right;\">\n      <th></th>\n      <th>provincia</th>\n      <th>lugares</th>\n      <th>distancia</th>\n      <th>hotel</th>\n      <th>puntaje</th>\n    </tr>\n  </thead>\n  <tbody>\n    <tr>\n      <th>0</th>\n      <td>Esmeraldas</td>\n      <td>Parque Cojimíes</td>\n      <td>16.00</td>\n      <td>La Facha Hostal Restaurant Surf</td>\n      <td>8.4</td>\n    </tr>\n    <tr>\n      <th>1</th>\n      <td>Esmeraldas</td>\n      <td>RestaurantSuly's Pasta Grill &amp; Bar</td>\n      <td>0.05</td>\n      <td>La Facha Hostal Restaurant Surf</td>\n      <td>8.4</td>\n    </tr>\n    <tr>\n      <th>2</th>\n      <td>Esmeraldas</td>\n      <td>RestaurantEl Económico</td>\n      <td>0.15</td>\n      <td>La Facha Hostal Restaurant Surf</td>\n      <td>8.4</td>\n    </tr>\n    <tr>\n      <th>3</th>\n      <td>Esmeraldas</td>\n      <td>RestaurantAtardecer de Mompiche</td>\n      <td>0.15</td>\n      <td>La Facha Hostal Restaurant Surf</td>\n      <td>8.4</td>\n    </tr>\n    <tr>\n      <th>4</th>\n      <td>Esmeraldas</td>\n      <td>Mompiche Beach</td>\n      <td>0.05</td>\n      <td>La Facha Hostal Restaurant Surf</td>\n      <td>8.4</td>\n    </tr>\n    <tr>\n      <th>...</th>\n      <td>...</td>\n      <td>...</td>\n      <td>...</td>\n      <td>...</td>\n      <td>...</td>\n    </tr>\n    <tr>\n      <th>1540</th>\n      <td>Guayaquil</td>\n      <td>Seminario Park</td>\n      <td>0.35</td>\n      <td>Manso Boutique Guest House</td>\n      <td>8.0</td>\n    </tr>\n    <tr>\n      <th>1541</th>\n      <td>Guayaquil</td>\n      <td>Las Iguanas Park</td>\n      <td>0.35</td>\n      <td>Manso Boutique Guest House</td>\n      <td>8.0</td>\n    </tr>\n    <tr>\n      <th>1542</th>\n      <td>Guayaquil</td>\n      <td>Cafe/barEl Café de Tere</td>\n      <td>0.15</td>\n      <td>Manso Boutique Guest House</td>\n      <td>8.0</td>\n    </tr>\n    <tr>\n      <th>1543</th>\n      <td>Guayaquil</td>\n      <td>RestaurantLa Parrilla del Ñato</td>\n      <td>0.15</td>\n      <td>Manso Boutique Guest House</td>\n      <td>8.0</td>\n    </tr>\n    <tr>\n      <th>1544</th>\n      <td>Guayaquil</td>\n      <td>Cafe/barJuice and Coffee</td>\n      <td>0.15</td>\n      <td>Manso Boutique Guest House</td>\n      <td>8.0</td>\n    </tr>\n  </tbody>\n</table>\n<p>1412 rows × 5 columns</p>\n</div>"
     },
     "execution_count": 127,
     "metadata": {},
     "output_type": "execute_result"
    }
   ],
   "source": [
    "df_surroundings_c"
   ],
   "metadata": {
    "collapsed": false
   }
  },
  {
   "cell_type": "code",
   "execution_count": 128,
   "outputs": [],
   "source": [
    "df_surroundings_c.to_csv(\"Data/surroundings_c.csv\",sep=\";\",index=False)"
   ],
   "metadata": {
    "collapsed": false
   }
  },
  {
   "cell_type": "code",
   "execution_count": null,
   "outputs": [],
   "source": [],
   "metadata": {
    "collapsed": false
   }
  }
 ],
 "metadata": {
  "kernelspec": {
   "display_name": "Python 3",
   "language": "python",
   "name": "python3"
  },
  "language_info": {
   "codemirror_mode": {
    "name": "ipython",
    "version": 3
   },
   "file_extension": ".py",
   "mimetype": "text/x-python",
   "name": "python",
   "nbconvert_exporter": "python",
   "pygments_lexer": "ipython3",
   "version": "3.8.10"
  },
  "orig_nbformat": 4,
  "vscode": {
   "interpreter": {
    "hash": "aee8b7b246df8f9039afb4144a1f6fd8d2ca17a180786b69acc140d282b71a49"
   }
  }
 },
 "nbformat": 4,
 "nbformat_minor": 2
}
